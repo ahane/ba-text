{
 "metadata": {
  "name": "",
  "signature": "sha256:ff1cf678973bc4ed4d3dffde94dfe97a32630a102bf302590214a3f9c48eb50f"
 },
 "nbformat": 3,
 "nbformat_minor": 0,
 "worksheets": [
  {
   "cells": [
    {
     "cell_type": "code",
     "collapsed": false,
     "input": [],
     "language": "python",
     "metadata": {},
     "outputs": []
    },
    {
     "cell_type": "markdown",
     "metadata": {},
     "source": [
      "Abstract \n",
      "1. Direct Coupling Analysis\n",
      "\n",
      "2. Preliminaries\n",
      "\n",
      "    2.1. The Ising Model\n",
      "    \n",
      "    2.2. Entropy and Mutual Information\n",
      "    \n",
      "3. The Potts Model\n",
      "\n",
      "    3.1 Max-Ent Derivation\n",
      "    \n",
      "    3.2 q-State Potts Model\n",
      "    \n",
      "    3.3 Parameter Interpretation\n",
      "    \n",
      "4. Imparativeliy Defined Factor Graphs\n",
      "\n",
      "    4.1 Factor Graphs\n",
      "    \n",
      "    4.2 Mathematical Representation\n",
      "    \n",
      "    4.3 Probabilistic Programming\n",
      "    \n",
      "    4.4 Factorie\n",
      "    \n",
      "5. Parameter Estimation Methodology\n",
      "\n",
      "    5.1 Structure Learning Approaches\n",
      "\n",
      "    5.2. $\\ell_1$ - Regularization\n",
      "    \n",
      "    5.3 Maximum Likelihood Estimation\n",
      "\n",
      "    5.4. Sampling Based ML Approximation\n",
      "\n",
      "    5.5 Contrastive Divergence Estimation\n",
      "    \n",
      "    5.6. Stochastic Gradient Descent\n",
      "    \n",
      "    5.7. AdaGrad\n",
      "    \n",
      "    5.8. Regularized Dual Averaging\n",
      "\n",
      "6. Empirical Results\n",
      "\n",
      "    6.1 Note on Choice of Method\n",
      "    \n",
      "    6.4 Hyperparameter\n",
      "    \n",
      "    6.5 Evaluation Metric\n",
      "    \n",
      "    6.6 Dataset\n",
      "    \n",
      "    6.7 Results\n",
      "    \n",
      "7. Conclusion and Suggestions\n",
      "    \n"
     ]
    },
    {
     "cell_type": "code",
     "collapsed": false,
     "input": [],
     "language": "python",
     "metadata": {},
     "outputs": []
    }
   ],
   "metadata": {}
  }
 ]
}